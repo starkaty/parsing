{
 "cells": [
  {
   "cell_type": "code",
   "execution_count": 93,
   "id": "8b1ec722",
   "metadata": {},
   "outputs": [],
   "source": [
    "from pymongo import MongoClient\n",
    "from pymongo.errors import DuplicateKeyError"
   ]
  },
  {
   "cell_type": "markdown",
   "id": "b78546b4",
   "metadata": {},
   "source": [
    "    Проверка записей в базе mongoDB с помощью scrapy"
   ]
  },
  {
   "cell_type": "code",
   "execution_count": 94,
   "id": "825b25d3",
   "metadata": {},
   "outputs": [
    {
     "data": {
      "text/plain": [
       "MongoClient(host=['localhost:27017'], document_class=dict, tz_aware=False, connect=True)"
      ]
     },
     "execution_count": 94,
     "metadata": {},
     "output_type": "execute_result"
    }
   ],
   "source": [
    "client = MongoClient()\n",
    "client"
   ]
  },
  {
   "cell_type": "code",
   "execution_count": 95,
   "id": "4d2608d5",
   "metadata": {},
   "outputs": [],
   "source": [
    "db = client.parser_books"
   ]
  },
  {
   "cell_type": "code",
   "execution_count": 96,
   "id": "9b055abe",
   "metadata": {},
   "outputs": [
    {
     "data": {
      "text/plain": [
       "['labirint_ru']"
      ]
     },
     "execution_count": 96,
     "metadata": {},
     "output_type": "execute_result"
    }
   ],
   "source": [
    "db.list_collection_names() #проверяем коллекции"
   ]
  },
  {
   "cell_type": "code",
   "execution_count": 97,
   "id": "ae837c36",
   "metadata": {},
   "outputs": [
    {
     "name": "stdout",
     "output_type": "stream",
     "text": [
      "['admin', 'config', 'local', 'parser_books', 'vacancy']\n"
     ]
    }
   ],
   "source": [
    "print(client.list_database_names()) #проверяем базы данных"
   ]
  },
  {
   "cell_type": "code",
   "execution_count": 98,
   "id": "35e3ad57",
   "metadata": {},
   "outputs": [],
   "source": [
    "collection = db.labirint_ru"
   ]
  },
  {
   "cell_type": "code",
   "execution_count": 99,
   "id": "f52e9f25",
   "metadata": {},
   "outputs": [
    {
     "name": "stdout",
     "output_type": "stream",
     "text": [
      "There are 999 books\n"
     ]
    }
   ],
   "source": [
    "n_books = len(list(collection.find()))\n",
    "print(f'There are {n_books} books')"
   ]
  }
 ],
 "metadata": {
  "kernelspec": {
   "display_name": "Python 3 (ipykernel)",
   "language": "python",
   "name": "python3"
  },
  "language_info": {
   "codemirror_mode": {
    "name": "ipython",
    "version": 3
   },
   "file_extension": ".py",
   "mimetype": "text/x-python",
   "name": "python",
   "nbconvert_exporter": "python",
   "pygments_lexer": "ipython3",
   "version": "3.9.12"
  }
 },
 "nbformat": 4,
 "nbformat_minor": 5
}
