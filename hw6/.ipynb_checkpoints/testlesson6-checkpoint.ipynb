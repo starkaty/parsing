{
 "cells": [
  {
   "cell_type": "code",
   "execution_count": 5,
   "id": "8b1ec722",
   "metadata": {},
   "outputs": [],
   "source": [
    "from pymongo import MongoClient\n",
    "from pymongo.errors import DuplicateKeyError\n",
    "\n",
    "from bs4 import BeautifulSoup as bs\n",
    "from lxml import html\n",
    "\n",
    "import requests\n",
    "from pprintpp import pprint as pp\n",
    "import pandas as pd\n",
    "import numpy as np\n",
    "from time import sleep"
   ]
  },
  {
   "cell_type": "markdown",
   "id": "09f68eaa",
   "metadata": {},
   "source": [
    "1 способ"
   ]
  },
  {
   "cell_type": "code",
   "execution_count": 9,
   "id": "1009031f",
   "metadata": {},
   "outputs": [],
   "source": [
    "url = 'https://img3.labirint.ru/rc/7726c119488bd3cf2f6fce38d31440be/363x561q80/books47/464615/cover.png?1575476798'\n",
    "headers = {'User-Agent':'Mozilla/5.0 (X11; Ubuntu; Linux x86_64; rv:109.0) Gecko/20100101 Firefox/109.0'}\n",
    "res = requests.get(url, headers = headers)"
   ]
  },
  {
   "cell_type": "code",
   "execution_count": 10,
   "id": "fad10d1c",
   "metadata": {},
   "outputs": [],
   "source": [
    "with open('img_ex.jpg', 'wb') as f:\n",
    "    f.write(res.content)"
   ]
  },
  {
   "cell_type": "markdown",
   "id": "b79a3301",
   "metadata": {},
   "source": [
    "2 способ"
   ]
  },
  {
   "cell_type": "code",
   "execution_count": 11,
   "id": "53340854",
   "metadata": {},
   "outputs": [
    {
     "name": "stdout",
     "output_type": "stream",
     "text": [
      "--2023-02-28 10:13:19--  https://img3.labirint.ru/rc/7726c119488bd3cf2f6fce38d31440be/363x561q80/books47/464615/cover.png?1575476798\n",
      "Распознаётся img3.labirint.ru (img3.labirint.ru)… 194.84.83.149, 194.84.120.181\n",
      "Подключение к img3.labirint.ru (img3.labirint.ru)|194.84.83.149|:443... соединение установлено.\n",
      "HTTP-запрос отправлен. Ожидание ответа… 200 OK\n",
      "Длина: 401999 (393K) [image/png]\n",
      "Сохранение в: «cover.png?1575476798»\n",
      "\n",
      "cover.png?157547679 100%[===================>] 392,58K  --.-KB/s    за 0,07s   \n",
      "\n",
      "2023-02-28 10:13:19 (5,25 MB/s) - «cover.png?1575476798» сохранён [401999/401999]\n",
      "\n"
     ]
    }
   ],
   "source": [
    "!wget https://img3.labirint.ru/rc/7726c119488bd3cf2f6fce38d31440be/363x561q80/books47/464615/cover.png?1575476798"
   ]
  },
  {
   "cell_type": "code",
   "execution_count": 12,
   "id": "84c954e8",
   "metadata": {},
   "outputs": [
    {
     "name": "stdout",
     "output_type": "stream",
     "text": [
      "Requirement already satisfied: wget in /home/ekaterina/anaconda3/lib/python3.9/site-packages (3.2)\r\n"
     ]
    }
   ],
   "source": [
    "!pip install wget"
   ]
  },
  {
   "cell_type": "code",
   "execution_count": 13,
   "id": "d5c3b7d6",
   "metadata": {},
   "outputs": [],
   "source": [
    "import wget"
   ]
  },
  {
   "cell_type": "code",
   "execution_count": 14,
   "id": "84ebcc04",
   "metadata": {},
   "outputs": [
    {
     "data": {
      "text/plain": [
       "'cover.png'"
      ]
     },
     "execution_count": 14,
     "metadata": {},
     "output_type": "execute_result"
    }
   ],
   "source": [
    "wget.download(url)"
   ]
  },
  {
   "cell_type": "code",
   "execution_count": null,
   "id": "bfd53dee",
   "metadata": {
    "collapsed": true
   },
   "outputs": [],
   "source": []
  },
  {
   "cell_type": "code",
   "execution_count": null,
   "id": "37170b2b",
   "metadata": {},
   "outputs": [],
   "source": []
  },
  {
   "cell_type": "code",
   "execution_count": null,
   "id": "34eecef7",
   "metadata": {},
   "outputs": [],
   "source": []
  },
  {
   "cell_type": "code",
   "execution_count": null,
   "id": "191a205b",
   "metadata": {},
   "outputs": [],
   "source": []
  },
  {
   "cell_type": "code",
   "execution_count": null,
   "id": "9081382a",
   "metadata": {},
   "outputs": [],
   "source": []
  },
  {
   "cell_type": "code",
   "execution_count": null,
   "id": "107b997d",
   "metadata": {},
   "outputs": [],
   "source": []
  },
  {
   "cell_type": "code",
   "execution_count": null,
   "id": "46254b3d",
   "metadata": {},
   "outputs": [],
   "source": []
  },
  {
   "cell_type": "code",
   "execution_count": null,
   "id": "620863fb",
   "metadata": {},
   "outputs": [],
   "source": []
  },
  {
   "cell_type": "code",
   "execution_count": 6,
   "id": "f6035737",
   "metadata": {},
   "outputs": [],
   "source": [
    "url = 'https://www.castorama.ru/karkas-navesnogo-shkafa-36-x-60-x-34-sm-belyj/'\n",
    "headers = {'User-Agent':'Mozilla/5.0 (X11; Ubuntu; Linux x86_64; rv:109.0) Gecko/20100101 Firefox/109.0'}\n",
    "res = requests.get(url, headers = headers)\n",
    "page = html.fromstring(res.text)"
   ]
  },
  {
   "cell_type": "code",
   "execution_count": 10,
   "id": "9f510c38",
   "metadata": {},
   "outputs": [],
   "source": [
    "a = page.xpath('//h1[@class=\"product-essential__name hide-max-small\"]/text()')"
   ]
  },
  {
   "cell_type": "code",
   "execution_count": 11,
   "id": "04570aeb",
   "metadata": {},
   "outputs": [
    {
     "data": {
      "text/plain": [
       "['\\n            Каркас навесного шкафа 36 x 60 x 34 см, белый        ']"
      ]
     },
     "execution_count": 11,
     "metadata": {},
     "output_type": "execute_result"
    }
   ],
   "source": [
    "a"
   ]
  },
  {
   "cell_type": "code",
   "execution_count": 14,
   "id": "7166f899",
   "metadata": {},
   "outputs": [
    {
     "data": {
      "text/plain": [
       "'Каркас навесного шкафа 36 x 60 x 34 см, белый'"
      ]
     },
     "execution_count": 14,
     "metadata": {},
     "output_type": "execute_result"
    }
   ],
   "source": [
    "a[0].replace('\\n', '').replace('      ','').replace('  ', '')"
   ]
  },
  {
   "cell_type": "code",
   "execution_count": 18,
   "id": "ebee3e44",
   "metadata": {},
   "outputs": [],
   "source": [
    "s = ['1245', 'lkk']"
   ]
  },
  {
   "cell_type": "code",
   "execution_count": 19,
   "id": "ca6cff71",
   "metadata": {},
   "outputs": [
    {
     "data": {
      "text/plain": [
       "1245"
      ]
     },
     "execution_count": 19,
     "metadata": {},
     "output_type": "execute_result"
    }
   ],
   "source": []
  },
  {
   "cell_type": "code",
   "execution_count": null,
   "id": "c712fb81",
   "metadata": {},
   "outputs": [],
   "source": []
  },
  {
   "cell_type": "code",
   "execution_count": null,
   "id": "cba18e17",
   "metadata": {},
   "outputs": [],
   "source": []
  },
  {
   "cell_type": "code",
   "execution_count": null,
   "id": "b8968e52",
   "metadata": {},
   "outputs": [],
   "source": []
  },
  {
   "cell_type": "code",
   "execution_count": null,
   "id": "48477329",
   "metadata": {},
   "outputs": [],
   "source": []
  },
  {
   "cell_type": "code",
   "execution_count": 123,
   "id": "825b25d3",
   "metadata": {},
   "outputs": [
    {
     "data": {
      "text/plain": [
       "MongoClient(host=['localhost:27017'], document_class=dict, tz_aware=False, connect=True)"
      ]
     },
     "execution_count": 123,
     "metadata": {},
     "output_type": "execute_result"
    }
   ],
   "source": [
    "client = MongoClient()\n",
    "client"
   ]
  },
  {
   "cell_type": "code",
   "execution_count": 124,
   "id": "0496ace0",
   "metadata": {},
   "outputs": [],
   "source": [
    "db = client['vacancy']"
   ]
  },
  {
   "cell_type": "code",
   "execution_count": 127,
   "id": "9b055abe",
   "metadata": {},
   "outputs": [
    {
     "data": {
      "text/plain": [
       "['data', 'java', 'python']"
      ]
     },
     "execution_count": 127,
     "metadata": {},
     "output_type": "execute_result"
    }
   ],
   "source": [
    "db.list_collection_names() #проверяем коллекции"
   ]
  },
  {
   "cell_type": "code",
   "execution_count": 128,
   "id": "ae837c36",
   "metadata": {},
   "outputs": [
    {
     "name": "stdout",
     "output_type": "stream",
     "text": [
      "['admin', 'config', 'local', 'vacancy']\n"
     ]
    }
   ],
   "source": [
    "print(client.list_database_names()) #проверяем базы данных"
   ]
  },
  {
   "cell_type": "code",
   "execution_count": null,
   "id": "f52e9f25",
   "metadata": {},
   "outputs": [],
   "source": []
  }
 ],
 "metadata": {
  "kernelspec": {
   "display_name": "Python 3 (ipykernel)",
   "language": "python",
   "name": "python3"
  },
  "language_info": {
   "codemirror_mode": {
    "name": "ipython",
    "version": 3
   },
   "file_extension": ".py",
   "mimetype": "text/x-python",
   "name": "python",
   "nbconvert_exporter": "python",
   "pygments_lexer": "ipython3",
   "version": "3.9.12"
  }
 },
 "nbformat": 4,
 "nbformat_minor": 5
}
